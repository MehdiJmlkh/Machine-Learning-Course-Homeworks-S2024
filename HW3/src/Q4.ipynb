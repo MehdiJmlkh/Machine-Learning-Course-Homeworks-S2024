{
  "cells": [
    {
      "cell_type": "markdown",
      "metadata": {},
      "source": [
        "## Load Dataset"
      ]
    },
    {
      "cell_type": "code",
      "execution_count": 1,
      "metadata": {
        "id": "41ByKBEm2FFE"
      },
      "outputs": [],
      "source": [
        "from sklearn.base import BaseEstimator, ClassifierMixin, clone\n",
        "from sklearn.datasets import load_iris\n",
        "from sklearn.model_selection import train_test_split\n",
        "from sklearn.metrics import accuracy_score\n",
        "from sklearn.tree import DecisionTreeClassifier\n",
        "from sklearn.preprocessing import LabelEncoder\n",
        "import numpy as np\n",
        "import matplotlib.pyplot as plt\n",
        "from sklearn.metrics import confusion_matrix\n",
        "import seaborn as sns\n",
        "sns.set()"
      ]
    },
    {
      "cell_type": "code",
      "execution_count": 2,
      "metadata": {},
      "outputs": [],
      "source": [
        "iris = load_iris()\n",
        "X = iris.data\n",
        "y = iris.target_names[iris.target]"
      ]
    },
    {
      "cell_type": "markdown",
      "metadata": {},
      "source": [
        "## AdaBoostClassifier"
      ]
    },
    {
      "cell_type": "code",
      "execution_count": 3,
      "metadata": {
        "id": "80eGYDq72Icw"
      },
      "outputs": [],
      "source": [
        "class SimpleMultiClassBoosting(BaseEstimator, ClassifierMixin):\n",
        "    def __init__(self, base_estimator=None, n_estimators=50):\n",
        "        self.base_estimator = base_estimator if base_estimator is not None else DecisionTreeClassifier(max_depth=1)\n",
        "        self.n_estimators = n_estimators\n",
        "        self.learners = []\n",
        "        self.learner_weights = []\n",
        "        self.label_encoder = LabelEncoder()\n",
        "\n",
        "    def fit(self, X, y):\n",
        "        \n",
        "        # Convert labels to [0, n_classes-1]\n",
        "        y = self.label_encoder.fit_transform(y)\n",
        "        n_classes = len(self.label_encoder.classes_)\n",
        "        n_samples = X.shape[0]\n",
        "        \n",
        "        # Initialize weights uniformly\n",
        "        sample_weight = np.full(n_samples, 1/n_samples)\n",
        "\n",
        "        for _ in range(self.n_estimators):\n",
        "            \n",
        "            choosen_samples = np.random.choice(\n",
        "                np.arange(0, n_samples), \n",
        "                size=n_samples,\n",
        "                p=sample_weight\n",
        "            )\n",
        "            learner = clone(self.base_estimator)\n",
        "            learner.fit(X[choosen_samples], y[choosen_samples], sample_weight=sample_weight)\n",
        "\n",
        "            # Compute weighted error rate (misclassification rate)\n",
        "            y_pred = learner.predict(X)\n",
        "            correct_pred = np.array([1 if a == b else 0 for a, b in zip(y, y_pred)])\n",
        "            miss_pred = 1 - correct_pred\n",
        "            learner_error =  np.sum(miss_pred * sample_weight) / np.sum(sample_weight)\n",
        "            \n",
        "            # Compute learner weight using SAMME algorithm\n",
        "            if learner_error >= 1 - (1 / n_classes):\n",
        "                break  # Stop if the learner is no better than random guessing\n",
        "            learner_weight = 0.5 * np.log((1.0 - learner_error)/1.0) + np.log(n_classes - 1)\n",
        "            \n",
        "            # Increase the weights of misclassified samples\n",
        "            sample_weight = self._normalize(sample_weight * np.exp((miss_pred - correct_pred) * learner_weight))\n",
        "            \n",
        "            # Save the current learner\n",
        "            self.learners.append(learner)\n",
        "            self.learner_weights.append(learner_weight)\n",
        "\n",
        "    def predict(self, X):\n",
        "        n_samples = X.shape[0]\n",
        "        n_classes = len(self.label_encoder.classes_)\n",
        "        \n",
        "        # Collect predictions from each learner\n",
        "        y_pred = np.array([learner.predict(X) for learner in self.learners])\n",
        "\n",
        "        # Weighted vote for each sample's prediction across all learners\n",
        "        votes = np.zeros((n_samples, n_classes))\n",
        "        for i in range(n_samples):\n",
        "            for vote, weight in zip(y_pred[:, i], self.learner_weights):\n",
        "                votes[i][vote] += weight\n",
        "        \n",
        "        # Final prediction is the one with the highest weighted vote\n",
        "        majority_vote = np.argmax(votes, axis=1)\n",
        "\n",
        "        # Convert back to original class labels\n",
        "        return self.label_encoder.inverse_transform(majority_vote)\n",
        "    \n",
        "    def _normalize(self, probs):\n",
        "        return probs / np.sum(probs)\n",
        "        "
      ]
    },
    {
      "cell_type": "markdown",
      "metadata": {},
      "source": [
        "## Evaluation"
      ]
    },
    {
      "cell_type": "code",
      "execution_count": 4,
      "metadata": {},
      "outputs": [],
      "source": [
        "def plt_confusion_matrix(y_true, y_pred, labels, title):\n",
        "        \n",
        "    cm = confusion_matrix(y_true, y_pred, labels=labels)\n",
        "    sns.heatmap(\n",
        "            cm.T, \n",
        "            square=True, \n",
        "            annot=True, \n",
        "            fmt='d', \n",
        "            cbar=True,\n",
        "            xticklabels=labels, \n",
        "            yticklabels=labels, \n",
        "            cmap=plt.cm.Blues\n",
        "    )\n",
        "    plt.xlabel('Predicted Label')\n",
        "    plt.ylabel('True Label')\n",
        "    plt.title(title + \" - Confusion Matrix\")"
      ]
    },
    {
      "cell_type": "code",
      "execution_count": 5,
      "metadata": {},
      "outputs": [],
      "source": [
        "X_train, X_test, y_train, y_test = train_test_split(X, y, test_size=0.3, random_state=42)"
      ]
    },
    {
      "cell_type": "code",
      "execution_count": 6,
      "metadata": {},
      "outputs": [
        {
          "name": "stdout",
          "output_type": "stream",
          "text": [
            "Accuracy: 1.0\n"
          ]
        },
        {
          "data": {
            "image/png": "[encoded data removed]",
            "text/plain": [
              "<Figure size 640x480 with 2 Axes>"
            ]
          },
          "metadata": {},
          "output_type": "display_data"
        }
      ],
      "source": [
        "ada_Boost = SimpleMultiClassBoosting(n_estimators=3)\n",
        "ada_Boost.fit(X_train, y_train)\n",
        "y_pred = ada_Boost.predict(X_test)\n",
        " \n",
        "accuracy = accuracy_score(y_test, y_pred)\n",
        "print(\"Accuracy:\", accuracy)\n",
        "plt_confusion_matrix(y_test, y_pred, iris.target_names, \"AdaBoostClassifier\")\n",
        "plt.savefig(\"../assets/Q4_cm.png\")\n",
        "plt.show()"
      ]
    },
    {
      "cell_type": "code",
      "execution_count": null,
      "metadata": {},
      "outputs": [],
      "source": []
    }
  ],
  "metadata": {
    "colab": {
      "provenance": []
    },
    "kernelspec": {
      "display_name": "Python 3",
      "name": "python3"
    },
    "language_info": {
      "codemirror_mode": {
        "name": "ipython",
        "version": 3
      },
      "file_extension": ".py",
      "mimetype": "text/x-python",
      "name": "python",
      "nbconvert_exporter": "python",
      "pygments_lexer": "ipython3",
      "version": "3.11.5"
    }
  },
  "nbformat": 4,
  "nbformat_minor": 0
}
