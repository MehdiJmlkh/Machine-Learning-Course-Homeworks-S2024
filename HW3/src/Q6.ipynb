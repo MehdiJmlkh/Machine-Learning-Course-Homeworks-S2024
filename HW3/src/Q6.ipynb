{
 "cells": [
  {
   "cell_type": "markdown",
   "metadata": {},
   "source": [
    "## Read Dataset"
   ]
  },
  {
   "cell_type": "code",
   "execution_count": 1,
   "metadata": {},
   "outputs": [],
   "source": [
    "import pandas as pd\n",
    "import numpy as np\n",
    "from sklearn.model_selection import train_test_split\n",
    "import matplotlib.pyplot as plt\n",
    "import seaborn as sns\n",
    "from sklearn.metrics import confusion_matrix, accuracy_score\n",
    "sns.set()"
   ]
  },
  {
   "cell_type": "code",
   "execution_count": 2,
   "metadata": {},
   "outputs": [
    {
     "data": {
      "text/html": [
       "<div>\n",
       "<style scoped>\n",
       "    .dataframe tbody tr th:only-of-type {\n",
       "        vertical-align: middle;\n",
       "    }\n",
       "\n",
       "    .dataframe tbody tr th {\n",
       "        vertical-align: top;\n",
       "    }\n",
       "\n",
       "    .dataframe thead th {\n",
       "        text-align: right;\n",
       "    }\n",
       "</style>\n",
       "<table border=\"1\" class=\"dataframe\">\n",
       "  <thead>\n",
       "    <tr style=\"text-align: right;\">\n",
       "      <th></th>\n",
       "      <th>Fiscal Year Released</th>\n",
       "      <th>Recidivism Reporting Year</th>\n",
       "      <th>Race - Ethnicity</th>\n",
       "      <th>Age At Release</th>\n",
       "      <th>Convicting Offense Classification</th>\n",
       "      <th>Convicting Offense Type</th>\n",
       "      <th>Convicting Offense Subtype</th>\n",
       "      <th>Main Supervising District</th>\n",
       "      <th>Release Type</th>\n",
       "      <th>Part of Target Population</th>\n",
       "      <th>Recidivism - Return to Prison numeric</th>\n",
       "    </tr>\n",
       "  </thead>\n",
       "  <tbody>\n",
       "    <tr>\n",
       "      <th>0</th>\n",
       "      <td>2010</td>\n",
       "      <td>2013</td>\n",
       "      <td>White</td>\n",
       "      <td>&lt;45</td>\n",
       "      <td>D Felony</td>\n",
       "      <td>Violent</td>\n",
       "      <td>Other</td>\n",
       "      <td>3JD</td>\n",
       "      <td>Parole</td>\n",
       "      <td>Yes</td>\n",
       "      <td>1</td>\n",
       "    </tr>\n",
       "    <tr>\n",
       "      <th>1</th>\n",
       "      <td>2010</td>\n",
       "      <td>2013</td>\n",
       "      <td>White</td>\n",
       "      <td>&gt;45</td>\n",
       "      <td>D Felony</td>\n",
       "      <td>Other</td>\n",
       "      <td>Other</td>\n",
       "      <td>3JD</td>\n",
       "      <td>Parole</td>\n",
       "      <td>Yes</td>\n",
       "      <td>1</td>\n",
       "    </tr>\n",
       "    <tr>\n",
       "      <th>2</th>\n",
       "      <td>2010</td>\n",
       "      <td>2013</td>\n",
       "      <td>White</td>\n",
       "      <td>&lt;45</td>\n",
       "      <td>D Felony</td>\n",
       "      <td>Other</td>\n",
       "      <td>Other</td>\n",
       "      <td>5JD</td>\n",
       "      <td>Parole</td>\n",
       "      <td>Yes</td>\n",
       "      <td>1</td>\n",
       "    </tr>\n",
       "    <tr>\n",
       "      <th>3</th>\n",
       "      <td>2010</td>\n",
       "      <td>2013</td>\n",
       "      <td>White</td>\n",
       "      <td>&gt;45</td>\n",
       "      <td>Other Felony</td>\n",
       "      <td>Drug</td>\n",
       "      <td>Trafficking</td>\n",
       "      <td>3JD</td>\n",
       "      <td>Parole</td>\n",
       "      <td>Yes</td>\n",
       "      <td>1</td>\n",
       "    </tr>\n",
       "    <tr>\n",
       "      <th>4</th>\n",
       "      <td>2010</td>\n",
       "      <td>2013</td>\n",
       "      <td>Black</td>\n",
       "      <td>&lt;45</td>\n",
       "      <td>D Felony</td>\n",
       "      <td>Drug</td>\n",
       "      <td>Trafficking</td>\n",
       "      <td>3JD</td>\n",
       "      <td>Parole</td>\n",
       "      <td>Yes</td>\n",
       "      <td>1</td>\n",
       "    </tr>\n",
       "  </tbody>\n",
       "</table>\n",
       "</div>"
      ],
      "text/plain": [
       "   Fiscal Year Released  Recidivism Reporting Year Race - Ethnicity  \\\n",
       "0                  2010                       2013            White   \n",
       "1                  2010                       2013            White   \n",
       "2                  2010                       2013            White   \n",
       "3                  2010                       2013            White   \n",
       "4                  2010                       2013            Black   \n",
       "\n",
       "  Age At Release Convicting Offense Classification Convicting Offense Type  \\\n",
       "0            <45                          D Felony                 Violent   \n",
       "1            >45                          D Felony                   Other   \n",
       "2            <45                          D Felony                   Other   \n",
       "3            >45                      Other Felony                    Drug   \n",
       "4            <45                          D Felony                    Drug   \n",
       "\n",
       "  Convicting Offense Subtype Main Supervising District Release Type  \\\n",
       "0                      Other                       3JD       Parole   \n",
       "1                      Other                       3JD       Parole   \n",
       "2                      Other                       5JD       Parole   \n",
       "3                Trafficking                       3JD       Parole   \n",
       "4                Trafficking                       3JD       Parole   \n",
       "\n",
       "  Part of Target Population  Recidivism - Return to Prison numeric  \n",
       "0                       Yes                                      1  \n",
       "1                       Yes                                      1  \n",
       "2                       Yes                                      1  \n",
       "3                       Yes                                      1  \n",
       "4                       Yes                                      1  "
      ]
     },
     "execution_count": 2,
     "metadata": {},
     "output_type": "execute_result"
    }
   ],
   "source": [
    "df = pd.read_csv(\"../data/prison_dataset.csv\")\n",
    "target = 'Recidivism - Return to Prison numeric'\n",
    "df.head()"
   ]
  },
  {
   "cell_type": "code",
   "execution_count": 3,
   "metadata": {},
   "outputs": [
    {
     "name": "stdout",
     "output_type": "stream",
     "text": [
      "Feature                                Unique Values\n",
      "-------                                -------------\n",
      "Fiscal Year Released                   [2010 2013 2015]\n",
      "Recidivism Reporting Year              [2013 2016 2018]\n",
      "Race - Ethnicity                       ['White' 'Black']\n",
      "Age At Release                         ['<45' '>45']\n",
      "Convicting Offense Classification      ['D Felony' 'Other Felony']\n",
      "Convicting Offense Type                ['Violent' 'Other' 'Drug']\n",
      "Convicting Offense Subtype             ['Other' 'Trafficking']\n",
      "Main Supervising District              ['3JD' '5JD']\n",
      "Release Type                           ['Parole' 'Discharged End of Sentence']\n",
      "Part of Target Population              ['Yes' 'No']\n",
      "Recidivism - Return to Prison numeric  [1 0]\n"
     ]
    }
   ],
   "source": [
    "print(f\"{'Feature':<38} Unique Values\")\n",
    "print(f\"{'-------':<38} -------------\")\n",
    "for col in df.columns:\n",
    "    print(f'{col: <38} {df[col].unique()}')"
   ]
  },
  {
   "cell_type": "markdown",
   "metadata": {},
   "source": [
    "## Decision Tree"
   ]
  },
  {
   "cell_type": "code",
   "execution_count": 4,
   "metadata": {},
   "outputs": [],
   "source": [
    "class Node:\n",
    "    def __init__(self, feature=None, label=None) -> None:\n",
    "        self.feature = feature\n",
    "        self.label = label\n",
    "        self.children = {}\n",
    "        \n",
    "    def add_child(self, node, value):\n",
    "        self.children[value] = node\n",
    "        \n",
    "    def get_feature(self):\n",
    "        return self.feature\n",
    "    \n",
    "    def get_label(self):\n",
    "        return self.label\n",
    "    \n",
    "    def get_children(self):\n",
    "        return self.children.items()\n",
    "\n",
    "class DecisionTree:\n",
    "    def __init__(self, max_depth) -> None:\n",
    "        self.root = None\n",
    "        self.max_depth = max_depth\n",
    "    \n",
    "    def fit(self, X, y):\n",
    "        self.root = self._build_tree(X, y, self.max_depth)\n",
    "    \n",
    "    def predict(self, X):\n",
    "        return [self._traverse_tree(self.root, X.iloc[i]) for i in range(X.shape[0])]\n",
    "    \n",
    "    def _traverse_tree(self, root, x):\n",
    "        if root.get_feature() == None:\n",
    "           return root.get_label() \n",
    "        for value, child in root.get_children():\n",
    "            if value == x[root.get_feature()]:\n",
    "                return self._traverse_tree(child, x)\n",
    "    \n",
    "    def _build_tree(self, X, y, max_depth):\n",
    "        if (max_depth == 0 or self._target_entropy(y) == 0):\n",
    "            return Node(label=np.argmax(np.bincount(y)))\n",
    "        \n",
    "        best_feature = self._best_feature(X, y)\n",
    "        root = Node(feature=best_feature)\n",
    "        for value, group in self._split_data(X, y, best_feature).items():\n",
    "            child_node = self._build_tree(*group, max_depth - 1)\n",
    "            root.add_child(child_node, value)\n",
    "            \n",
    "        return root\n",
    "    \n",
    "    def _split_data(self, X, y, feature):\n",
    "        groups = {}\n",
    "        for value in X[feature].unique():\n",
    "            groups[value] = tuple([\n",
    "                X[X[feature] == value].drop(feature, axis=1), \n",
    "                y[X[feature] == value]\n",
    "            ])\n",
    "        return groups\n",
    "    \n",
    "    def _best_feature(self, X, y):\n",
    "        conditional_entropies = []\n",
    "        columns = X.columns\n",
    "        for col in columns:\n",
    "            entropies = [self._target_entropy(y[df[col] == value]) for value in df[col].unique()]\n",
    "            conditional_entropies.append(\n",
    "                np.average(entropies, weights=df[col].value_counts())\n",
    "            )\n",
    "        return columns[np.argmin(conditional_entropies)]\n",
    "    \n",
    "    def _target_entropy(self, y):\n",
    "        return self._entropy(y.value_counts().tolist())\n",
    "    \n",
    "    def _entropy(self, probs):\n",
    "        probs /= np.sum(probs)\n",
    "        if 1 in probs: \n",
    "            return 0\n",
    "        return -np.sum(probs * np.log2(probs))\n"
   ]
  },
  {
   "cell_type": "markdown",
   "metadata": {},
   "source": [
    "## Train and Test"
   ]
  },
  {
   "cell_type": "code",
   "execution_count": 5,
   "metadata": {},
   "outputs": [],
   "source": [
    "X = df.drop(target, axis=1) \n",
    "y = df[target] \n",
    "\n",
    "X_train, X_test, y_train, y_test = train_test_split(X, y, test_size=0.2, random_state=42)"
   ]
  },
  {
   "cell_type": "code",
   "execution_count": 6,
   "metadata": {},
   "outputs": [],
   "source": [
    "model = DecisionTree(3)\n",
    "model.fit(X_train, y_train)\n",
    "y_pred = model.predict(X_test)"
   ]
  },
  {
   "cell_type": "markdown",
   "metadata": {},
   "source": [
    "## Evaluation"
   ]
  },
  {
   "cell_type": "code",
   "execution_count": 7,
   "metadata": {},
   "outputs": [],
   "source": [
    "def plt_confusion_matrix(y_true, y_pred, labels, title):\n",
    "        \n",
    "    cm = confusion_matrix(y_true, y_pred, labels=labels)\n",
    "    sns.heatmap(\n",
    "            cm.T, \n",
    "            square=True, \n",
    "            annot=True, \n",
    "            fmt='d', \n",
    "            cbar=True,\n",
    "            xticklabels=labels, \n",
    "            yticklabels=labels, \n",
    "            cmap=plt.cm.Blues\n",
    "    )\n",
    "    plt.xlabel('Predicted Label')\n",
    "    plt.ylabel('True Label')\n",
    "    plt.title(title + \" - Confusion Matrix\")"
   ]
  },
  {
   "cell_type": "code",
   "execution_count": 8,
   "metadata": {},
   "outputs": [
    {
     "name": "stdout",
     "output_type": "stream",
     "text": [
      "Accuracy: 0.72\n"
     ]
    },
    {
     "data": {
      "image/png": "[encoded data removed]",
      "text/plain": [
       "<Figure size 640x480 with 2 Axes>"
      ]
     },
     "metadata": {},
     "output_type": "display_data"
    }
   ],
   "source": [
    "accuracy = accuracy_score(y_test, y_pred)\n",
    "print(f\"Accuracy: {accuracy:.2f}\")\n",
    "plt_confusion_matrix(y_test, y_pred, [0, 1], \"Decision Tree\")\n",
    "\n",
    "plt.savefig('../assets/Q6_cm.png')\n",
    "plt.show()"
   ]
  }
 ],
 "metadata": {
  "kernelspec": {
   "display_name": "base",
   "language": "python",
   "name": "python3"
  },
  "language_info": {
   "codemirror_mode": {
    "name": "ipython",
    "version": 3
   },
   "file_extension": ".py",
   "mimetype": "text/x-python",
   "name": "python",
   "nbconvert_exporter": "python",
   "pygments_lexer": "ipython3",
   "version": "3.11.5"
  }
 },
 "nbformat": 4,
 "nbformat_minor": 2
}
