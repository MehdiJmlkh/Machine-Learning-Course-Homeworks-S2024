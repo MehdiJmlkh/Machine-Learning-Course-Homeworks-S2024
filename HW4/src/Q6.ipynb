{
 "cells": [
  {
   "cell_type": "code",
   "execution_count": 86,
   "metadata": {},
   "outputs": [],
   "source": [
    "import numpy as np\n",
    "from torchvision.datasets import MNIST\n",
    "from torchvision.transforms import transforms\n",
    "import matplotlib.pyplot as plt\n",
    "from sklearn.svm import SVC\n",
    "from sklearn.model_selection import GridSearchCV\n",
    "from sklearn.linear_model import LogisticRegression\n",
    "from sklearn.metrics import accuracy_score\n"
   ]
  },
  {
   "cell_type": "markdown",
   "metadata": {},
   "source": [
    "# Load MNIST"
   ]
  },
  {
   "cell_type": "code",
   "execution_count": 8,
   "metadata": {},
   "outputs": [],
   "source": [
    "MNIST_MEAN = 0.1307\n",
    "MNIST_STD = 0.3081\n",
    "\n",
    "transform = transforms.Compose([\n",
    "    transforms.ToTensor(), \n",
    "    transforms.Normalize((MNIST_MEAN,), (MNIST_STD,))\n",
    "    ])\n",
    "\n",
    "train_dataset = MNIST(root='../data', train=True, download=True, transform=transform)\n",
    "test_dataset = MNIST(root='../data', train=False, download=True, transform=transform)"
   ]
  },
  {
   "cell_type": "markdown",
   "metadata": {},
   "source": [
    "# Show Image Function"
   ]
  },
  {
   "cell_type": "code",
   "execution_count": 183,
   "metadata": {},
   "outputs": [],
   "source": [
    "def show_image(image, title):\n",
    "    plt.figure(figsize=(4, 4))\n",
    "    plt.imshow(image, cmap='gray_r')\n",
    "    plt.title(title)\n",
    "    plt.axis('off')"
   ]
  },
  {
   "cell_type": "markdown",
   "metadata": {},
   "source": [
    "# Train and Test data"
   ]
  },
  {
   "cell_type": "code",
   "execution_count": 188,
   "metadata": {},
   "outputs": [],
   "source": [
    "X_train = np.array(train_dataset.data).reshape(-1, 28 * 28)[:1000]\n",
    "y_train = np.array(train_dataset.targets)[:1000]\n",
    "X_test =  np.array(test_dataset.data).reshape(-1, 28 * 28)[:100]\n",
    "y_test = np.array(test_dataset.targets)[:100]"
   ]
  },
  {
   "cell_type": "code",
   "execution_count": 189,
   "metadata": {},
   "outputs": [
    {
     "name": "stdout",
     "output_type": "stream",
     "text": [
      "Digit   Count(train data)\n",
      "-----   -----------------\n",
      "0       97\n",
      "1       116\n",
      "2       99\n",
      "3       93\n",
      "4       105\n",
      "5       92\n",
      "6       94\n",
      "7       117\n",
      "8       87\n",
      "9       100\n"
     ]
    }
   ],
   "source": [
    "digits, counts = np.unique(y_train, return_counts=True)\n",
    "print(\"Digit   Count(train data)\")\n",
    "print(\"-----   -----------------\")\n",
    "for digit, count in zip(digits, counts):\n",
    "    print(f\"{digit:<8}{count}\")"
   ]
  },
  {
   "cell_type": "markdown",
   "metadata": {},
   "source": [
    "# Kernel: Linear"
   ]
  },
  {
   "cell_type": "code",
   "execution_count": 190,
   "metadata": {},
   "outputs": [
    {
     "name": "stdout",
     "output_type": "stream",
     "text": [
      "Best Score: 0.88\n",
      "Best Parameters: {'C': 1e-06}\n"
     ]
    }
   ],
   "source": [
    "param_grid = {\n",
    "    'C': [1e-7, 1e-6, 1e-5, 1e-4, 0.01, 0.1, 1, 10]\n",
    "}\n",
    "\n",
    "svm = SVC(kernel='linear')\n",
    "\n",
    "grid_search_linear = GridSearchCV(svm, param_grid, cv=5)\n",
    "\n",
    "grid_search_linear.fit(X_train, y_train)\n",
    "\n",
    "print(f\"Best Score: {grid_search_linear.best_score_:.2f}\")\n",
    "print(f\"Best Parameters: {grid_search_linear.best_params_}\")"
   ]
  },
  {
   "cell_type": "markdown",
   "metadata": {},
   "source": [
    "# Kernel: RBF"
   ]
  },
  {
   "cell_type": "code",
   "execution_count": 125,
   "metadata": {},
   "outputs": [
    {
     "name": "stdout",
     "output_type": "stream",
     "text": [
      "Best Score: 0.91\n",
      "Best Parameters: {'C': 10, 'gamma': 'scale'}\n"
     ]
    }
   ],
   "source": [
    "param_grid = {\n",
    "    'C': [0.01, 0.1, 1, 10, 100],\n",
    "    'gamma': ['scale', 'auto']\n",
    "}\n",
    "\n",
    "svm = SVC(kernel='rbf')\n",
    "\n",
    "grid_search_rbf = GridSearchCV(svm, param_grid, cv=5)\n",
    "\n",
    "grid_search_rbf.fit(X_train, y_train)\n",
    "\n",
    "print(f\"Best Score: {grid_search_rbf.best_score_:.2f}\")\n",
    "print(f\"Best Parameters: {grid_search_rbf.best_params_}\")"
   ]
  },
  {
   "cell_type": "markdown",
   "metadata": {},
   "source": [
    "# Kernel: Polynomial Degree 2"
   ]
  },
  {
   "cell_type": "code",
   "execution_count": 126,
   "metadata": {},
   "outputs": [
    {
     "name": "stdout",
     "output_type": "stream",
     "text": [
      "Best Score: 0.89\n",
      "Best Parameters: {'C': 10, 'gamma': 'scale'}\n"
     ]
    }
   ],
   "source": [
    "param_grid = {\n",
    "    'C': [0.1, 1, 10, 100],\n",
    "    'gamma': ['scale', 'auto']\n",
    "}\n",
    "\n",
    "svm = SVC(kernel='poly', degree=2)\n",
    "\n",
    "grid_search_poly = GridSearchCV(svm, param_grid, cv=5)\n",
    "\n",
    "grid_search_poly.fit(X_train, y_train)\n",
    "\n",
    "\n",
    "print(f\"Best Score: {grid_search_poly.best_score_:.2f}\")\n",
    "print(f\"Best Parameters: {grid_search_poly.best_params_}\")"
   ]
  },
  {
   "cell_type": "markdown",
   "metadata": {},
   "source": [
    "# Best SVM"
   ]
  },
  {
   "cell_type": "code",
   "execution_count": 151,
   "metadata": {},
   "outputs": [
    {
     "name": "stdout",
     "output_type": "stream",
     "text": [
      "Best Parameters: {'C': 10, 'gamma': 'scale'}\n",
      "SVM Train Accuracy: 1.00\n",
      "SVM Test Accuracy:  0.94\n"
     ]
    }
   ],
   "source": [
    "best_svm = grid_search_rbf.best_estimator_\n",
    "\n",
    "y_train_pred = best_svm.predict(X_train)\n",
    "y_test_pred = best_svm.predict(X_test)\n",
    "\n",
    "train_accuracy = accuracy_score(y_train, y_train_pred)\n",
    "test_accuracy = accuracy_score(y_test, y_test_pred)\n",
    "\n",
    "print(f\"Best Parameters: {grid_search_rbf.best_params_}\")\n",
    "print(f\"SVM Train Accuracy: {train_accuracy:.2f}\")\n",
    "print(f\"SVM Test Accuracy:  {test_accuracy:.2f}\")"
   ]
  },
  {
   "cell_type": "markdown",
   "metadata": {},
   "source": [
    "# SVM  VS.  Logistic Regression"
   ]
  },
  {
   "cell_type": "code",
   "execution_count": 152,
   "metadata": {},
   "outputs": [
    {
     "name": "stdout",
     "output_type": "stream",
     "text": [
      "Logistic Regression Test Accuracy: 0.90\n"
     ]
    }
   ],
   "source": [
    "logistic = LogisticRegression(max_iter=300)\n",
    "logistic.fit(X_train, y_train)\n",
    "logistic_y_pred = logistic.predict(X_test)\n",
    "lr_accuracy = accuracy_score(y_test, logistic_y_pred)\n",
    "print(f\"Logistic Regression Test Accuracy: {lr_accuracy:.2f}\")"
   ]
  },
  {
   "cell_type": "code",
   "execution_count": 184,
   "metadata": {},
   "outputs": [
    {
     "data": {
      "image/png": "[encoded data removed]",
      "text/plain": [
       "<Figure size 400x400 with 1 Axes>"
      ]
     },
     "metadata": {},
     "output_type": "display_data"
    }
   ],
   "source": [
    "np.random.seed(31)\n",
    "svm_pred = y_test_pred\n",
    "logistic_pred = logistic_y_pred\n",
    "svm_correct_logistic_wrong = X_test[(svm_pred == y_test) & (logistic_pred == y_test)]\n",
    "index = np.random.randint(0, len(svm_correct_logistic_wrong))\n",
    "image = svm_correct_logistic_wrong[index]\n",
    "\n",
    "\n",
    "show_image(image.reshape((28, 28, 1)), \"SVM Correct, Logistic Wrong\")\n",
    "plt.savefig(\"../assets/Q6.png\")\n",
    "plt.show()\n"
   ]
  }
 ],
 "metadata": {
  "kernelspec": {
   "display_name": "base",
   "language": "python",
   "name": "python3"
  },
  "language_info": {
   "codemirror_mode": {
    "name": "ipython",
    "version": 3
   },
   "file_extension": ".py",
   "mimetype": "text/x-python",
   "name": "python",
   "nbconvert_exporter": "python",
   "pygments_lexer": "ipython3",
   "version": "3.11.5"
  }
 },
 "nbformat": 4,
 "nbformat_minor": 2
}
