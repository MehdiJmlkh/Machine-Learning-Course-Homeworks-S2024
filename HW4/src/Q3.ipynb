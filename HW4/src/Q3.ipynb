{
 "cells": [
  {
   "cell_type": "code",
   "execution_count": 1,
   "metadata": {},
   "outputs": [],
   "source": [
    "import torch\n",
    "import torch.nn as nn\n",
    "import torch.optim as optim\n",
    "import torch.nn.functional as F\n",
    "from torchvision.datasets import MNIST\n",
    "from torchvision.transforms import transforms\n",
    "from torch.utils.data import DataLoader\n",
    "import matplotlib.pyplot as plt\n",
    "from torchvision.transforms import ToTensor"
   ]
  },
  {
   "cell_type": "markdown",
   "metadata": {},
   "source": [
    "# Set Device"
   ]
  },
  {
   "cell_type": "code",
   "execution_count": 2,
   "metadata": {},
   "outputs": [],
   "source": [
    "device = torch.device('cuda' if torch.cuda.is_available() else 'cpu')"
   ]
  },
  {
   "cell_type": "markdown",
   "metadata": {},
   "source": [
    "# Load MNIST"
   ]
  },
  {
   "cell_type": "code",
   "execution_count": 5,
   "metadata": {},
   "outputs": [],
   "source": [
    "MNIST_MEAN = 0.1307\n",
    "MNIST_STD = 0.3081\n",
    "\n",
    "transform = transforms.Compose([\n",
    "    transforms.ToTensor(), \n",
    "    transforms.Normalize((MNIST_MEAN,), (MNIST_STD,))\n",
    "    ])\n",
    "\n",
    "train_dataset = MNIST(root='../data', train=True, download=True, transform=transform)\n",
    "test_dataset = MNIST(root='../data', train=False, download=True, transform=transform)"
   ]
  },
  {
   "cell_type": "markdown",
   "metadata": {},
   "source": [
    "# MLP"
   ]
  },
  {
   "cell_type": "code",
   "execution_count": 6,
   "metadata": {},
   "outputs": [],
   "source": [
    "class MLP(nn.Module):\n",
    "    def __init__(self, input_shape, hidden_size, num_classes):\n",
    "        super(MLP, self).__init__()\n",
    "        self.input_shape = input_shape\n",
    "        self.fc1 = nn.Linear(input_shape[1], hidden_size)\n",
    "        self.relu1 = nn.ReLU()\n",
    "        self.fc2 = nn.Linear(hidden_size, num_classes)\n",
    "        self.softmax = nn.Softmax(dim=1)\n",
    "\n",
    "    def forward(self, x):\n",
    "        out = self.fc1(x)\n",
    "        out = self.relu1(out)\n",
    "        out = self.fc2(out)\n",
    "        out = self.softmax(out)\n",
    "        return out"
   ]
  },
  {
   "cell_type": "code",
   "execution_count": 7,
   "metadata": {},
   "outputs": [],
   "source": [
    "class TrainTest:\n",
    "    def __init__(self, model, device) -> None:\n",
    "        self.model = model\n",
    "        self.device = device\n",
    "        \n",
    "    def train(self, num_epochs, train_dataset, batch_size, loss_function, optimizer):\n",
    "        train_loader = DataLoader(train_dataset, batch_size=batch_size, shuffle=True)\n",
    "        \n",
    "        for epoch in range(num_epochs):\n",
    "            for i, (images, labels) in enumerate(train_loader):\n",
    "                images = images.reshape(*self.model.input_shape).to(self.device)\n",
    "                labels = labels.to(self.device)\n",
    "\n",
    "                outputs = self.model(images)\n",
    "                loss = loss_function(outputs, labels)\n",
    "\n",
    "                optimizer.zero_grad()\n",
    "                loss.backward()\n",
    "                optimizer.step()\n",
    "\n",
    "                if (i + 1) % 100 == 0:\n",
    "                    self._print_log(epoch, num_epochs, i + 1, len(train_loader), loss.item())\n",
    "                    \n",
    "    def test(self, test_dataset, batch_size):\n",
    "        test_loader = DataLoader(test_dataset, batch_size=batch_size, shuffle=False)\n",
    "        \n",
    "        with torch.no_grad():\n",
    "            correct = 0\n",
    "            total = 0\n",
    "            for images, labels in test_loader:\n",
    "                images = images.reshape(*self.model.input_shape).to(self.device)\n",
    "                labels = labels.to(self.device)\n",
    "                outputs = self.model(images)\n",
    "                _, predicted = torch.max(outputs.data, 1)\n",
    "                total += labels.size(0)\n",
    "                correct += (predicted == labels).sum().item()\n",
    "\n",
    "            print(f'Accuracy on test dataset: {100 * correct / total}%')\n",
    "            \n",
    "    def _print_log(self, epoch, num_epochs, step, total_steps, loss):\n",
    "        print(f'Epoch [{epoch + 1}/{num_epochs}], Step [{step}/{total_steps}], Loss: {loss:.4f}')\n",
    "        \n",
    "    def predict(self, x):\n",
    "        x = x.reshape(*self.model.input_shape).to(self.device)\n",
    "        outputs = self.model(x)\n",
    "        _, predicted = torch.max(outputs.data, 1)\n",
    "        return predicted\n",
    "         "
   ]
  },
  {
   "cell_type": "code",
   "execution_count": 8,
   "metadata": {},
   "outputs": [
    {
     "name": "stdout",
     "output_type": "stream",
     "text": [
      "Epoch [1/2], Step [100/938], Loss: 1.7355\n",
      "Epoch [1/2], Step [200/938], Loss: 1.6238\n",
      "Epoch [1/2], Step [300/938], Loss: 1.5739\n",
      "Epoch [1/2], Step [400/938], Loss: 1.5461\n",
      "Epoch [1/2], Step [500/938], Loss: 1.5804\n",
      "Epoch [1/2], Step [600/938], Loss: 1.5567\n",
      "Epoch [1/2], Step [700/938], Loss: 1.5231\n",
      "Epoch [1/2], Step [800/938], Loss: 1.5747\n",
      "Epoch [1/2], Step [900/938], Loss: 1.5845\n",
      "Epoch [2/2], Step [100/938], Loss: 1.5401\n",
      "Epoch [2/2], Step [200/938], Loss: 1.5773\n",
      "Epoch [2/2], Step [300/938], Loss: 1.5643\n",
      "Epoch [2/2], Step [400/938], Loss: 1.5667\n",
      "Epoch [2/2], Step [500/938], Loss: 1.5499\n",
      "Epoch [2/2], Step [600/938], Loss: 1.4885\n",
      "Epoch [2/2], Step [700/938], Loss: 1.5458\n",
      "Epoch [2/2], Step [800/938], Loss: 1.5290\n",
      "Epoch [2/2], Step [900/938], Loss: 1.5581\n",
      "Accuracy on test dataset: 93.97%\n"
     ]
    }
   ],
   "source": [
    "hidden_size = 50\n",
    "num_classes = 10\n",
    "num_epochs = 2\n",
    "batch_size = 64\n",
    "learning_rate = 0.001\n",
    "input_shape = (-1, 784)\n",
    "\n",
    "mlp_clf = MLP(input_shape, hidden_size, num_classes).to(device)\n",
    "\n",
    "loss_function = nn.CrossEntropyLoss()\n",
    "optimizer = optim.Adam(mlp_clf.parameters(), lr=learning_rate)\n",
    "\n",
    "TrainTest(mlp_clf, device).train(num_epochs, train_dataset, batch_size, loss_function, optimizer)\n",
    "\n",
    "TrainTest(mlp_clf, device).test(test_dataset, batch_size)"
   ]
  },
  {
   "cell_type": "markdown",
   "metadata": {},
   "source": [
    "# LeNet"
   ]
  },
  {
   "cell_type": "code",
   "execution_count": 13,
   "metadata": {},
   "outputs": [],
   "source": [
    "class LeNet(nn.Module):\n",
    "    def __init__(self, input_shape):\n",
    "        super(LeNet, self).__init__()\n",
    "        self.input_shape = input_shape\n",
    "        self.conv1 = nn.Conv2d(1, 6, 5, padding=2)\n",
    "        self.pool1 = nn.AvgPool2d(2, stride=2)\n",
    "        self.conv2 = nn.Conv2d(6, 16, 5)\n",
    "        self.pool2 = nn.AvgPool2d(2, 2)\n",
    "        self.fc1 = nn.Linear(16 * 5 * 5, 120)\n",
    "        self.fc2 = nn.Linear(120, 84)\n",
    "        self.fc3 = nn.Linear(84, 10)\n",
    "\n",
    "    def forward(self, x):\n",
    "        x = F.sigmoid(self.conv1(x))\n",
    "        x = self.pool1(x)\n",
    "        x = F.sigmoid(self.conv2(x))\n",
    "        x = self.pool2(x)\n",
    "        x = x.view(-1, 16 * 5 * 5)\n",
    "        x = F.sigmoid(self.fc1(x))\n",
    "        x = F.sigmoid(self.fc2(x))\n",
    "        x = self.fc3(x)\n",
    "        return x"
   ]
  },
  {
   "cell_type": "code",
   "execution_count": 15,
   "metadata": {},
   "outputs": [
    {
     "name": "stdout",
     "output_type": "stream",
     "text": [
      "Epoch [1/4], Step [100/938], Loss: 2.3060\n",
      "Epoch [1/4], Step [200/938], Loss: 1.5703\n",
      "Epoch [1/4], Step [300/938], Loss: 0.9419\n",
      "Epoch [1/4], Step [400/938], Loss: 0.5567\n",
      "Epoch [1/4], Step [500/938], Loss: 0.4218\n",
      "Epoch [1/4], Step [600/938], Loss: 0.4604\n",
      "Epoch [1/4], Step [700/938], Loss: 0.2144\n",
      "Epoch [1/4], Step [800/938], Loss: 0.3131\n",
      "Epoch [1/4], Step [900/938], Loss: 0.3399\n",
      "Epoch [2/4], Step [100/938], Loss: 0.2391\n",
      "Epoch [2/4], Step [200/938], Loss: 0.2738\n",
      "Epoch [2/4], Step [300/938], Loss: 0.1024\n",
      "Epoch [2/4], Step [400/938], Loss: 0.1431\n",
      "Epoch [2/4], Step [500/938], Loss: 0.2770\n",
      "Epoch [2/4], Step [600/938], Loss: 0.1894\n",
      "Epoch [2/4], Step [700/938], Loss: 0.2015\n",
      "Epoch [2/4], Step [800/938], Loss: 0.0950\n",
      "Epoch [2/4], Step [900/938], Loss: 0.1920\n",
      "Epoch [3/4], Step [100/938], Loss: 0.1218\n",
      "Epoch [3/4], Step [200/938], Loss: 0.1982\n",
      "Epoch [3/4], Step [300/938], Loss: 0.2418\n",
      "Epoch [3/4], Step [400/938], Loss: 0.1151\n",
      "Epoch [3/4], Step [500/938], Loss: 0.0518\n",
      "Epoch [3/4], Step [600/938], Loss: 0.1406\n",
      "Epoch [3/4], Step [700/938], Loss: 0.1496\n",
      "Epoch [3/4], Step [800/938], Loss: 0.3267\n",
      "Epoch [3/4], Step [900/938], Loss: 0.1832\n",
      "Epoch [4/4], Step [100/938], Loss: 0.0407\n",
      "Epoch [4/4], Step [200/938], Loss: 0.0760\n",
      "Epoch [4/4], Step [300/938], Loss: 0.2648\n",
      "Epoch [4/4], Step [400/938], Loss: 0.1856\n",
      "Epoch [4/4], Step [500/938], Loss: 0.1392\n",
      "Epoch [4/4], Step [600/938], Loss: 0.0647\n",
      "Epoch [4/4], Step [700/938], Loss: 0.0561\n",
      "Epoch [4/4], Step [800/938], Loss: 0.1096\n",
      "Epoch [4/4], Step [900/938], Loss: 0.1033\n",
      "Accuracy on test dataset: 97.64%\n"
     ]
    }
   ],
   "source": [
    "num_epochs = 4\n",
    "input_shape = (-1, 1, 28, 28)\n",
    "\n",
    "leNet_clf = LeNet(input_shape).to(device)\n",
    "\n",
    "loss_function = nn.CrossEntropyLoss()\n",
    "optimizer = optim.Adam(leNet_clf.parameters(), lr=learning_rate)\n",
    "\n",
    "TrainTest(leNet_clf, device).train(num_epochs, train_dataset, batch_size, loss_function, optimizer)\n",
    "\n",
    "TrainTest(leNet_clf, device).test(test_dataset, batch_size)"
   ]
  },
  {
   "cell_type": "markdown",
   "metadata": {},
   "source": [
    "# Test Shifted Image"
   ]
  },
  {
   "cell_type": "code",
   "execution_count": 37,
   "metadata": {},
   "outputs": [],
   "source": [
    "def show_image(image, ax, title):\n",
    "    ax.imshow(image.squeeze(), cmap='gray')\n",
    "    ax.set_title(title)\n",
    "    ax.axis('off')"
   ]
  },
  {
   "cell_type": "code",
   "execution_count": 40,
   "metadata": {},
   "outputs": [
    {
     "name": "stdout",
     "output_type": "stream",
     "text": [
      "      original shifted\n",
      "LeNet 7        7\n",
      "MLP   7        2\n"
     ]
    },
    {
     "data": {
      "image/png": "[encoded data removed]",
      "text/plain": [
       "<Figure size 1000x500 with 2 Axes>"
      ]
     },
     "metadata": {},
     "output_type": "display_data"
    }
   ],
   "source": [
    "torch.manual_seed(42)\n",
    "\n",
    "shift_x = 0.1\n",
    "shift_y = 0.5\n",
    "shift_transform = transforms.Compose([\n",
    "    transforms.RandomAffine(degrees=0, translate=(shift_x, shift_y), fill=-MNIST_MEAN/MNIST_STD, )\n",
    "])\n",
    "\n",
    "index = 0\n",
    "image, label = test_dataset[index]\n",
    "\n",
    "shifted_image = shift_transform(image)\n",
    "\n",
    "fig, (ax1, ax2) = plt.subplots(1, 2, figsize=(10, 5))\n",
    "\n",
    "show_image(image, ax1, \"Original Image\")\n",
    "show_image(shifted_image, ax2, \"Shifted Image\")\n",
    "\n",
    "\n",
    "print(f\"{'':<6}original shifted\")\n",
    "print(f\"LeNet {TrainTest(leNet_clf, device).predict(image)[0]:<8} {TrainTest(leNet_clf, device).predict(shifted_image)[0]}\", )\n",
    "print(f\"MLP   {TrainTest(mlp_clf, device).predict(image)[0]:<8} {TrainTest(mlp_clf, device).predict(shifted_image)[0]}\")\n",
    "\n",
    "plt.savefig(\"../assets/Q3.png\")\n",
    "plt.show()"
   ]
  }
 ],
 "metadata": {
  "kernelspec": {
   "display_name": "base",
   "language": "python",
   "name": "python3"
  },
  "language_info": {
   "codemirror_mode": {
    "name": "ipython",
    "version": 3
   },
   "file_extension": ".py",
   "mimetype": "text/x-python",
   "name": "python",
   "nbconvert_exporter": "python",
   "pygments_lexer": "ipython3",
   "version": "3.11.5"
  }
 },
 "nbformat": 4,
 "nbformat_minor": 2
}
